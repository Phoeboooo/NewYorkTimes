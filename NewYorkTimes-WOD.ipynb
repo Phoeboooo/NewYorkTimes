{
 "cells": [
  {
   "cell_type": "code",
   "execution_count": 25,
   "metadata": {},
   "outputs": [
    {
     "name": "stderr",
     "output_type": "stream",
     "text": [
      "C:\\Users\\apple\\Anaconda3\\lib\\site-packages\\h5py\\__init__.py:36: FutureWarning: Conversion of the second argument of issubdtype from `float` to `np.floating` is deprecated. In future, it will be treated as `np.float64 == np.dtype(float).type`.\n",
      "  from ._conv import register_converters as _register_converters\n",
      "Using TensorFlow backend.\n"
     ]
    }
   ],
   "source": [
    "import numpy as np\n",
    "from keras.utils import np_utils\n",
    "from keras.layers import Activation, Dense, Dropout, Embedding, LSTM\n",
    "from keras.models import Sequential\n",
    "from keras.preprocessing import sequence\n",
    "from sklearn.model_selection import train_test_split"
   ]
  },
  {
   "cell_type": "code",
   "execution_count": null,
   "metadata": {},
   "outputs": [],
   "source": [
    "# data\n",
    "# politics : 0\n",
    "# science : 1\n",
    "# sports : 2\n",
    "DATA = [ # sorry , I can't show you the data for copyright or something ...\n",
    "    \n",
    "]"
   ]
  },
  {
   "cell_type": "code",
   "execution_count": 121,
   "metadata": {},
   "outputs": [],
   "source": [
    "# split (labels and news)\n",
    "data_X = []\n",
    "data_y = []\n",
    "for data in DATA:\n",
    "    data_X.append(data[0]) \n",
    "    data_y.append(data[1])"
   ]
  },
  {
   "cell_type": "code",
   "execution_count": 122,
   "metadata": {},
   "outputs": [
    {
     "name": "stdout",
     "output_type": "stream",
     "text": [
      "politics :  1000\n",
      "science :  1000\n",
      "sports :  1000\n",
      "total :  3000\n"
     ]
    }
   ],
   "source": [
    "c_0 = 0\n",
    "c_1 = 0\n",
    "c_2 = 0\n",
    "for d in data_y:\n",
    "    if d == 0:\n",
    "        c_0 += 1\n",
    "    elif d == 1:\n",
    "        c_1 += 1\n",
    "    else:\n",
    "        c_2 += 1\n",
    "        \n",
    "print('politics : ' ,c_0)\n",
    "print('science : ' ,c_1)\n",
    "print('sports : ' ,c_2)\n",
    "print('total : ' ,c_0 + c_1 + c_2)"
   ]
  },
  {
   "cell_type": "code",
   "execution_count": 123,
   "metadata": {},
   "outputs": [
    {
     "name": "stdout",
     "output_type": "stream",
     "text": [
      "data_y_shape :  (3000, 3)\n"
     ]
    }
   ],
   "source": [
    "def flatten(data):\n",
    "    for item in data:\n",
    "        if hasattr(item, '__iter__'):\n",
    "            for element in flatten(item):\n",
    "                yield element\n",
    "        else:\n",
    "            yield item\n",
    "\n",
    "flatten(data_y)\n",
    "data_y = np.array(data_y)\n",
    "data_y = np_utils.to_categorical(data_y)\n",
    "print('data_y_shape : ', data_y.shape)\n"
   ]
  },
  {
   "cell_type": "code",
   "execution_count": 124,
   "metadata": {},
   "outputs": [],
   "source": [
    "#sentence to words\n",
    "import re\n",
    "import collections\n",
    "\n",
    "def sentence2words(sentence):\n",
    "    \n",
    "    stopwords =[\"i\", \"me\", \"my\", \"myself\", \"we\", \"our\", \"ours\", \"ourselves\", \"you\", \"your\", \"yours\", \"yourself\",\n",
    "                \"yourselves\", \"he\", \"him\", \"his\", \"himself\", \"she\", \"her\", \"hers\", \"herself\", \"it\", \"its\", \"itself\",\n",
    "                \"they\", \"them\", \"their\", \"theirs\", \"themselves\", \"what\", \"which\", \"who\", \"whom\", \"this\", \"that\", \"these\",\n",
    "                \"those\", \"am\", \"is\", \"are\", \"was\", \"were\", \"be\", \"been\", \"being\", \"have\", \"has\", \"had\", \"having\", \"do\", \n",
    "                \"does\", \"did\", \"doing\", \"a\", \"an\", \"the\", \"and\", \"but\", \"if\", \"or\", \"because\", \"as\", \"until\", \"while\", \n",
    "                \"of\", \"at\", \"by\", \"for\", \"with\", \"about\", \"against\", \"between\", \"into\", \"through\", \"during\", \"before\", \n",
    "                \"after\", \"above\", \"below\", \"to\", \"from\", \"up\", \"down\", \"in\", \"out\", \"on\", \"off\", \"over\", \"under\", \"again\",\n",
    "                \"further\", \"then\", \"once\", \"here\", \"there\", \"when\", \"where\", \"why\", \"how\", \"all\", \"any\", \"both\", \"each\",\n",
    "                \"few\", \"more\", \"most\", \"other\", \"some\", \"such\", \"no\", \"nor\", \"not\", \"only\", \"own\", \"same\", \"so\", \"than\", \n",
    "                \"too\", \"very\",  \"can\", \"will\", \"just\",  \"should\", \"now\", \"s\", \"t\", \"don\", \"didn\", \"aren\", \"isn\", \"can\", \"re\", \"ll\", \"ve\"]\n",
    "    \n",
    "    sentence = sentence.lower() # lower\n",
    "    sentence = sentence.replace(\"\\n\", \"\") # delete new lines\n",
    "    sentence = re.sub(re.compile(r\"[!-\\?()' ‘’.,;/:-@[-`{-~]\"), \" \", sentence) # symbol to space\n",
    "    sentence = sentence.split(\" \") # split words with space\n",
    "    sentence_words = []\n",
    "    for word in sentence:\n",
    "        if (re.compile(r\"^.*[0-9]+.*$\").fullmatch(word) is not None): # delete words with numbers\n",
    "            continue\n",
    "        if word in stopwords: # delete words with stopwords \n",
    "            continue\n",
    "        sentence_words.append(word)        \n",
    "    return sentence_words\n",
    " \n",
    "# word to index\n",
    "word_to_index = {}\n",
    "index_to_word = {}\n",
    "num_recs = 0\n",
    "maxlen = 0\n",
    "word_freqs = collections.Counter()\n",
    "for sentence in data_X:\n",
    "    sentence_words = sentence2words(sentence)\n",
    "    maxlen =max(maxlen, len(sentence_words))\n",
    "    for word in sentence_words:\n",
    "        word_freqs[word] += 1\n",
    "    num_recs += 1\n",
    "    \n",
    "max_features = 4000\n",
    "vocab_size = min(max_features, len(word_freqs)) + 2\n",
    "word_to_index = {x[0]: i+2 for i, x in\n",
    "              enumerate(word_freqs.most_common(max_features))}\n",
    "word_to_index[\"PAD\"] = 0\n",
    "word_to_index[\"UNK\"] = 1\n",
    "index_to_word = {v: k for k, v in word_to_index.items()}\n",
    "  \n",
    "\n",
    "    "
   ]
  },
  {
   "cell_type": "code",
   "execution_count": 125,
   "metadata": {},
   "outputs": [
    {
     "name": "stdout",
     "output_type": "stream",
     "text": [
      "num_recs :  3000\n"
     ]
    }
   ],
   "source": [
    "# number of headlines\n",
    "print('num_recs : ', num_recs)"
   ]
  },
  {
   "cell_type": "code",
   "execution_count": 126,
   "metadata": {},
   "outputs": [
    {
     "name": "stdout",
     "output_type": "stream",
     "text": [
      "maxlen :  25\n"
     ]
    }
   ],
   "source": [
    "# number of words in one headline\n",
    "print('maxlen : ', maxlen)"
   ]
  },
  {
   "cell_type": "code",
   "execution_count": 127,
   "metadata": {},
   "outputs": [
    {
     "name": "stdout",
     "output_type": "stream",
     "text": [
      "word_freqs :  6832\n"
     ]
    }
   ],
   "source": [
    "print('word_freqs : ' ,len(word_freqs))"
   ]
  },
  {
   "cell_type": "code",
   "execution_count": 128,
   "metadata": {},
   "outputs": [
    {
     "name": "stdout",
     "output_type": "stream",
     "text": [
      "word_to_index :  4002\n"
     ]
    }
   ],
   "source": [
    "# 0 = padding\n",
    "# 1 = unknown\n",
    "# 2 = stop words\n",
    "print('word_to_index : ', len(word_to_index))"
   ]
  },
  {
   "cell_type": "code",
   "execution_count": 129,
   "metadata": {},
   "outputs": [],
   "source": [
    "# headline to index\n",
    "data_X_vec = []\n",
    "for sentence in data_X:\n",
    "    sentence_words = sentence2words(sentence)\n",
    "    sentence_ids = []\n",
    "    for word in sentence_words:\n",
    "        if word not in word_to_index:\n",
    "            sentence_ids.append(1)\n",
    "            continue\n",
    "        sentence_ids.append(word_to_index[word])\n",
    "    data_X_vec.append(sentence_ids)\n",
    "   \n",
    " "
   ]
  },
  {
   "cell_type": "code",
   "execution_count": 130,
   "metadata": {},
   "outputs": [],
   "source": [
    "data_X = sequence.pad_sequences(data_X_vec, maxlen=20)"
   ]
  },
  {
   "cell_type": "code",
   "execution_count": 131,
   "metadata": {},
   "outputs": [],
   "source": [
    "X_train, X_test, y_train, y_test = train_test_split(data_X, data_y, test_size=0.2, random_state=0)"
   ]
  },
  {
   "cell_type": "code",
   "execution_count": 132,
   "metadata": {},
   "outputs": [
    {
     "name": "stdout",
     "output_type": "stream",
     "text": [
      "X_train :  (2400, 20)\n",
      "X_test :  (600, 20)\n",
      "y_train :  (2400, 3)\n",
      "y_test :  (600, 3)\n"
     ]
    }
   ],
   "source": [
    "print('X_train : ', X_train.shape)\n",
    "print('X_test : ', X_test.shape)\n",
    "print('y_train : ', y_train.shape)\n",
    "print('y_test : ', y_test.shape)"
   ]
  },
  {
   "cell_type": "code",
   "execution_count": 149,
   "metadata": {},
   "outputs": [
    {
     "name": "stdout",
     "output_type": "stream",
     "text": [
      "_________________________________________________________________\n",
      "Layer (type)                 Output Shape              Param #   \n",
      "=================================================================\n",
      "embedding_25 (Embedding)     (None, 20, 64)            256128    \n",
      "_________________________________________________________________\n",
      "dropout_25 (Dropout)         (None, 20, 64)            0         \n",
      "_________________________________________________________________\n",
      "lstm_25 (LSTM)               (None, 64)                33024     \n",
      "_________________________________________________________________\n",
      "dense_25 (Dense)             (None, 3)                 195       \n",
      "_________________________________________________________________\n",
      "activation_25 (Activation)   (None, 3)                 0         \n",
      "=================================================================\n",
      "Total params: 289,347\n",
      "Trainable params: 289,347\n",
      "Non-trainable params: 0\n",
      "_________________________________________________________________\n"
     ]
    }
   ],
   "source": [
    "# Build model\n",
    "model = Sequential()\n",
    "model.add(Embedding(4002,64,input_length=20))\n",
    "model.add(Dropout(0.3))\n",
    "model.add(LSTM(64, dropout=0.3, recurrent_dropout=0.3))\n",
    "model.add(Dense(3))\n",
    "model.add(Activation(\"softmax\"))\n",
    "\n",
    "model.compile(loss=\"categorical_crossentropy\", optimizer=\"adam\",\n",
    "              metrics=[\"accuracy\"])\n",
    "\n",
    "model.summary()"
   ]
  },
  {
   "cell_type": "code",
   "execution_count": 150,
   "metadata": {},
   "outputs": [
    {
     "name": "stdout",
     "output_type": "stream",
     "text": [
      "Train on 2400 samples, validate on 600 samples\n",
      "Epoch 1/3\n",
      "2400/2400 [==============================] - 7s 3ms/step - loss: 0.9500 - acc: 0.5138 - val_loss: 0.6780 - val_acc: 0.7317\n",
      "Epoch 2/3\n",
      "2400/2400 [==============================] - 3s 1ms/step - loss: 0.5800 - acc: 0.7554 - val_loss: 0.4645 - val_acc: 0.8533\n",
      "Epoch 3/3\n",
      "2400/2400 [==============================] - 3s 1ms/step - loss: 0.3229 - acc: 0.8875 - val_loss: 0.3778 - val_acc: 0.8733\n"
     ]
    }
   ],
   "source": [
    "history = model.fit(X_train, y_train, batch_size=20,\n",
    "                    epochs=3,\n",
    "                    validation_data=(X_test, y_test))"
   ]
  },
  {
   "cell_type": "code",
   "execution_count": 151,
   "metadata": {},
   "outputs": [
    {
     "name": "stdout",
     "output_type": "stream",
     "text": [
      "600/600 [==============================] - 0s 463us/step\n",
      "Test score: 0.378, accuracy: 0.873\n",
      "predict : [2] label : 2 headline : zach britton  yankees cover UNK strength\n",
      "predict : [1] label : 2 headline : illegal street sport takes country UNK\n",
      "predict : [0] label : 0 headline : kavanaugh may hold key vote first death penalty case\n",
      "predict : [0] label : 0 headline : democrats  looking ahead       see future female\n",
      "predict : [2] label : 2 headline : rafael nadal outlasts UNK thiem marathon u  open UNK\n",
      "predict : [0] label : 0 headline : politics  republicans fret key battleground races\n",
      "predict : [0] label : 0 headline : randy rainbow  singing political satirist  spends sundays\n",
      "predict : [0] label : 0 headline : pence speech string together narrative chinese aggression\n",
      "predict : [0] label : 0 headline :  rude  terrible person   midterms  trump renews attacks press\n",
      "predict : [0] label : 0 headline : politics lisa lerer  war sexes\n"
     ]
    }
   ],
   "source": [
    "score, acc = model.evaluate(X_test, y_test, batch_size=10)\n",
    "print(\"Test score: {:.3f}, accuracy: {:.3f}\".format(score, acc))\n",
    "\n",
    "\n",
    "        \n",
    "for i in range(10):\n",
    "    idx = np.random.randint(len(X_test))\n",
    "    xtest = X_test[idx].reshape(1,20)\n",
    "    \n",
    "    ypred = model.predict(xtest)\n",
    "    predicted_class_indices=np.argmax(ypred,axis=1)\n",
    "    ylabel = y_test[idx]\n",
    "    ylabel = np.argmax(ylabel)\n",
    "    headline = \" \".join([index_to_word[x] for x in xtest[0].tolist() if x != 0])\n",
    "    print('predict :', predicted_class_indices, 'label :', ylabel,'headline :', headline)\n",
    "   "
   ]
  }
 ],
 "metadata": {
  "kernelspec": {
   "display_name": "Python 3",
   "language": "python",
   "name": "python3"
  },
  "language_info": {
   "codemirror_mode": {
    "name": "ipython",
    "version": 3
   },
   "file_extension": ".py",
   "mimetype": "text/x-python",
   "name": "python",
   "nbconvert_exporter": "python",
   "pygments_lexer": "ipython3",
   "version": "3.6.5"
  }
 },
 "nbformat": 4,
 "nbformat_minor": 2
}
